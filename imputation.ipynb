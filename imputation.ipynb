{
 "cells": [
  {
   "cell_type": "code",
   "execution_count": 16,
   "metadata": {},
   "outputs": [],
   "source": [
    "from sklearn.datasets import load_diabetes  # to load data\n",
    "from julearn.pipeline import PipelineCreator\n",
    "from julearn import run_cross_validation\n",
    "from julearn.inspect import preprocess\n",
    "import numpy as np\n",
    "\n",
    "# Load in the data\n",
    "df_features, target = load_diabetes(return_X_y=True, as_frame=True)\n",
    "\n",
    "# Introduce missing values randomly in the dataset\n",
    "rng = np.random.default_rng(seed=42)  # Reproducible results\n",
    "missing_rate = 0.1  # 10% missing values\n",
    "n_missing_samples = int(np.floor(missing_rate * df_features.size))\n",
    "\n",
    "# Randomly select indices to introduce missing values\n",
    "missing_indices = (rng.integers(0, df_features.shape[0], n_missing_samples), \n",
    "                   rng.integers(0, df_features.shape[1], n_missing_samples))\n",
    "df_features.values[missing_indices] = np.nan\n",
    "\n",
    "X = [\"age\", \"sex\", \"bmi\", \"bp\", \"s1\", \"s2\", \"s3\", \"s4\", \"s5\", \"s6\"]\n",
    "y = \"target\"\n",
    "X_types ={\n",
    "    \"continuous\":[\n",
    "        \"age\", \"sex\", \"bmi\", \"bp\", \"s1\", \"s2\", \"s3\", \"s4\", \"s5\", \"s6\"\n",
    "    ]\n",
    "}\n"
   ]
  },
  {
   "cell_type": "code",
   "execution_count": 17,
   "metadata": {},
   "outputs": [
    {
     "name": "stdout",
     "output_type": "stream",
     "text": [
      "Features:\n",
      "         age       sex       bmi        bp        s1        s2        s3  \\\n",
      "0  0.038076  0.050680  0.061696  0.021872 -0.044223 -0.034821 -0.043401   \n",
      "1 -0.001882 -0.044642 -0.051474 -0.026328 -0.008449 -0.019163  0.074412   \n",
      "2  0.085299       NaN  0.044451 -0.005670 -0.045599 -0.034194 -0.032356   \n",
      "3       NaN -0.044642 -0.011595 -0.036656  0.012191  0.024991 -0.036038   \n",
      "4  0.005383 -0.044642 -0.036385  0.021872  0.003935  0.015596  0.008142   \n",
      "\n",
      "         s4        s5        s6  \n",
      "0 -0.002592  0.019907 -0.017646  \n",
      "1 -0.039493 -0.068332 -0.092204  \n",
      "2 -0.002592  0.002861 -0.025930  \n",
      "3  0.034309  0.022688 -0.009362  \n",
      "4       NaN -0.031988 -0.046641  \n",
      "Target:\n",
      " count    442.000000\n",
      "mean     152.133484\n",
      "std       77.093005\n",
      "min       25.000000\n",
      "25%       87.000000\n",
      "50%      140.500000\n",
      "75%      211.500000\n",
      "max      346.000000\n",
      "Name: target, dtype: float64\n"
     ]
    }
   ],
   "source": [
    "print(\"Features:\\n\", df_features.head())\n",
    "print(\"Target:\\n\", target.describe())"
   ]
  },
  {
   "cell_type": "code",
   "execution_count": 18,
   "metadata": {},
   "outputs": [],
   "source": [
    "data = df_features.copy()\n",
    "data[\"target\"] = target\n"
   ]
  },
  {
   "cell_type": "code",
   "execution_count": 30,
   "metadata": {},
   "outputs": [
    {
     "name": "stdout",
     "output_type": "stream",
     "text": [
      "   fit_time  score_time  test_score  n_train  n_test  repeat  fold  \\\n",
      "0  0.010266    0.003275  -48.331823      353      89       0     0   \n",
      "1  0.007122    0.002846  -49.530916      353      89       0     1   \n",
      "2  0.006144    0.002516  -53.480182      354      88       0     2   \n",
      "3  0.005812    0.002509  -46.746818      354      88       0     3   \n",
      "4  0.005509    0.002593  -52.019808      354      88       0     4   \n",
      "\n",
      "                           cv_mdsum  \n",
      "0  b10eef89b4192178d482d7a1587a248a  \n",
      "1  b10eef89b4192178d482d7a1587a248a  \n",
      "2  b10eef89b4192178d482d7a1587a248a  \n",
      "3  b10eef89b4192178d482d7a1587a248a  \n",
      "4  b10eef89b4192178d482d7a1587a248a  \n",
      "-50.02190930609343\n"
     ]
    }
   ],
   "source": [
    "#  Univariate feature imputaiton\n",
    "# SimpleImupter\n",
    "pipeline_creator_1 = PipelineCreator(problem_type=\"regression\")\n",
    "pipeline_creator_1.add(\"impute_simple\", apply_to=\"*\",strategy=\"mean\")\n",
    "pipeline_creator_1.add(\"ridge\")\n",
    "\n",
    "\n",
    "scores_1, model_1 = run_cross_validation(\n",
    "    X=X,\n",
    "    y=y,\n",
    "    data=data,\n",
    "    X_types=X_types,\n",
    "    model=pipeline_creator_1,\n",
    "    scoring=\"neg_mean_absolute_error\",\n",
    "    return_estimator=\"final\",\n",
    ")\n",
    "print(scores_1)"
   ]
  },
  {
   "cell_type": "code",
   "execution_count": 24,
   "metadata": {},
   "outputs": [
    {
     "name": "stdout",
     "output_type": "stream",
     "text": [
      "   fit_time  score_time  test_score  n_train  n_test  repeat  fold  \\\n",
      "0  0.333696    0.017555  -48.017559      353      89       0     0   \n",
      "1  0.387783    0.021610  -48.473483      353      89       0     1   \n",
      "2  0.411441    0.021787  -53.032081      354      88       0     2   \n",
      "3  0.438956    0.024860  -46.196489      354      88       0     3   \n",
      "4  0.347118    0.019651  -51.038093      354      88       0     4   \n",
      "\n",
      "                           cv_mdsum  \n",
      "0  b10eef89b4192178d482d7a1587a248a  \n",
      "1  b10eef89b4192178d482d7a1587a248a  \n",
      "2  b10eef89b4192178d482d7a1587a248a  \n",
      "3  b10eef89b4192178d482d7a1587a248a  \n",
      "4  b10eef89b4192178d482d7a1587a248a  \n"
     ]
    }
   ],
   "source": [
    "# Multivariate feature imputation\n",
    "# IterativeImputer\n",
    "pipeline_creator_2 = PipelineCreator(problem_type=\"regression\")\n",
    "pipeline_creator_2.add(\"impute_iterative\", apply_to=\"*\",max_iter=100, random_state=0)\n",
    "pipeline_creator_2.add(\"ridge\")\n",
    "\n",
    "\n",
    "scores_2, model_2 = run_cross_validation(\n",
    "    X=X,\n",
    "    y=y,\n",
    "    data=data,\n",
    "    X_types=X_types,\n",
    "    model=pipeline_creator_2,\n",
    "    scoring=\"neg_mean_absolute_error\",\n",
    "    return_estimator=\"final\",\n",
    ")\n",
    "print(scores_2)"
   ]
  },
  {
   "cell_type": "code",
   "execution_count": 27,
   "metadata": {},
   "outputs": [
    {
     "name": "stdout",
     "output_type": "stream",
     "text": [
      "   fit_time  score_time  test_score  n_train  n_test  repeat  fold  \\\n",
      "0  0.022339    0.006216  -48.032922      353      89       0     0   \n",
      "1  0.017084    0.004863  -48.568661      353      89       0     1   \n",
      "2  0.014643    0.006140  -53.357545      354      88       0     2   \n",
      "3  0.015991    0.008623  -47.376895      354      88       0     3   \n",
      "4  0.013672    0.004129  -51.612284      354      88       0     4   \n",
      "\n",
      "                           cv_mdsum  \n",
      "0  b10eef89b4192178d482d7a1587a248a  \n",
      "1  b10eef89b4192178d482d7a1587a248a  \n",
      "2  b10eef89b4192178d482d7a1587a248a  \n",
      "3  b10eef89b4192178d482d7a1587a248a  \n",
      "4  b10eef89b4192178d482d7a1587a248a  \n"
     ]
    }
   ],
   "source": [
    "# Nearest neighbors imputation\n",
    "pipeline_creator_3 = PipelineCreator(problem_type=\"regression\")\n",
    "pipeline_creator_3.add(\"impute_knn\", apply_to=\"*\",n_neighbors=2, weights='uniform')\n",
    "pipeline_creator_3.add(\"ridge\")\n",
    "\n",
    "\n",
    "scores_3, model_3 = run_cross_validation(\n",
    "    X=X,\n",
    "    y=y,\n",
    "    data=data,\n",
    "    X_types=X_types,\n",
    "    model=pipeline_creator_3,\n",
    "    scoring=\"neg_mean_absolute_error\",\n",
    "    return_estimator=\"final\",\n",
    ")\n",
    "print(scores_3)"
   ]
  }
 ],
 "metadata": {
  "kernelspec": {
   "display_name": "base",
   "language": "python",
   "name": "python3"
  },
  "language_info": {
   "codemirror_mode": {
    "name": "ipython",
    "version": 3
   },
   "file_extension": ".py",
   "mimetype": "text/x-python",
   "name": "python",
   "nbconvert_exporter": "python",
   "pygments_lexer": "ipython3",
   "version": "3.10.9"
  }
 },
 "nbformat": 4,
 "nbformat_minor": 2
}
